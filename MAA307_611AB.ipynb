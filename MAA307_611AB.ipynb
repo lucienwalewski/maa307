{
 "cells": [
  {
   "cell_type": "markdown",
   "id": "eaa50362",
   "metadata": {},
   "source": [
    "# MAA307 Homework Assignment 2\n",
    "\n",
    "#### Lucien Walewski and Aurele Bohbot"
   ]
  },
  {
   "cell_type": "markdown",
   "id": "55cd0554-c24d-4a47-8aea-3f72c28603cd",
   "metadata": {},
   "source": [
    "## Exercise 6.11 A"
   ]
  },
  {
   "cell_type": "markdown",
   "id": "e77cbaf5-83e2-43b2-9f80-274c9b437023",
   "metadata": {},
   "source": [
    "We place ourselves in the framework of Exercise 6.8. We consider the problem\n",
    "$$\n",
    "\\text{minimize}_{x\\in\\mathbb{R}^n} \\frac{1}{2}\\langle Ax,x\\rangle - \\langle b,x\\rangle \\quad\\text{subject to} \\quad Cx=d\n",
    "$$\n",
    "where $A\\in\\mathcal{M}_n(\\mathbb{R})$ is symmetric positive definite, $b\\in\\mathbb{R}^n$, $C\\in\\mathcal{M}_{m,n}(\\mathbb{R})$, and $d\\in\\mathbb{R}^m$."
   ]
  },
  {
   "cell_type": "code",
   "execution_count": null,
   "id": "fd3f7ef4",
   "metadata": {},
   "outputs": [],
   "source": []
  }
 ],
 "metadata": {
  "kernelspec": {
   "display_name": "Python 3 (ipykernel)",
   "language": "python",
   "name": "python3"
  },
  "language_info": {
   "codemirror_mode": {
    "name": "ipython",
    "version": 3
   },
   "file_extension": ".py",
   "mimetype": "text/x-python",
   "name": "python",
   "nbconvert_exporter": "python",
   "pygments_lexer": "ipython3",
   "version": "3.9.13"
  }
 },
 "nbformat": 4,
 "nbformat_minor": 5
}
