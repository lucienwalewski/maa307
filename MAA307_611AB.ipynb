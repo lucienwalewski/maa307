{
 "cells": [
  {
   "cell_type": "markdown",
   "id": "eaa50362",
   "metadata": {},
   "source": [
    "# MAA307 Homework Assignment 2\n",
    "\n",
    "#### Lucien Walewski and Aurele Bohbot"
   ]
  },
  {
   "cell_type": "code",
   "execution_count": 1,
   "id": "0b8fd59c",
   "metadata": {},
   "outputs": [],
   "source": [
    "# Imports\n",
    "\n",
    "import numpy as np\n",
    "import matplotlib.pyplot as plt"
   ]
  },
  {
   "cell_type": "markdown",
   "id": "55cd0554-c24d-4a47-8aea-3f72c28603cd",
   "metadata": {},
   "source": [
    "## Exercise 6.11 A"
   ]
  },
  {
   "cell_type": "markdown",
   "id": "74da1c0c",
   "metadata": {},
   "source": [
    "### Part 1"
   ]
  },
  {
   "cell_type": "markdown",
   "id": "e77cbaf5-83e2-43b2-9f80-274c9b437023",
   "metadata": {},
   "source": [
    "We place ourselves in the framework of Exercise 6.8. We consider the problem\n",
    "$$\n",
    "\\text{minimize}_{x\\in\\mathbb{R}^n} \\frac{1}{2}\\langle Ax,x\\rangle - \\langle b,x\\rangle \\quad\\text{subject to} \\quad Cx=d\n",
    "$$\n",
    "where $A\\in\\mathcal{M}_n(\\mathbb{R})$ is symmetric positive definite, $b\\in\\mathbb{R}^n$, $C\\in\\mathcal{M}_{m,n}(\\mathbb{R})$ is surjective, and $d\\in\\mathbb{R}^m$. We begin by considering the associated Lagrangian/dual problem given by:\n",
    "$$\n",
    "L(x, \\lambda) = \\frac{1}{2}\\langle Ax,x\\rangle - \\langle b,x\\rangle + \\langle \\lambda,Cx\\rangle - \\langle \\lambda,d\\rangle\n",
    "$$\n",
    "for $(x,\\lambda)\\in X\\times\\mathbb{R}^m$. "
   ]
  },
  {
   "cell_type": "markdown",
   "id": "fd3f7ef4",
   "metadata": {},
   "source": [
    "Then, Uzawa's algorithm consists of the following:\n",
    "\\begin{align*}\n",
    "    x^k\\in\\argmin_{x\\in X} L(x, \\lambda^k) \\\\\n",
    "    \\lambda^{k+1}=\\lambda^k+\\tau (Cx^k-d)\n",
    "\\end{align*}\n",
    "We can explicitely compute the update step for $x_k$. We have\n",
    "\\begin{align*}\n",
    "    x^k\\in\\argmin_{x\\in X} L(x, \\lambda^k)&\\iff \\nabla_x L(x^k, \\lambda^k)=0 \\\\\n",
    "    &\\iff Ax^k-b+C^t\\lambda^k =0 \\\\\n",
    "    &\\iff x^k=A^{-1}(b-C^t\\lambda^k)\n",
    "\\end{align*}"
   ]
  },
  {
   "cell_type": "markdown",
   "id": "fac28a4c",
   "metadata": {},
   "source": [
    "We now implement the Uzawa algorithm for this problem."
   ]
  },
  {
   "cell_type": "code",
   "execution_count": 39,
   "id": "70c0cabe",
   "metadata": {},
   "outputs": [],
   "source": [
    "def Uzawa(A, b, C, d, stepsize, tol, max_iter=None):\n",
    "    # Initialization\n",
    "    lambda_ = np.zeros(d.shape)\n",
    "    invA = np.linalg.inv(A)\n",
    "    x = invA @ (b - C @ lambda_)\n",
    "    lambda_ = lambda_ + stepsize * (C @ x -d)\n",
    "    iterations = 1\n",
    "    while True:\n",
    "        # Update\n",
    "        x_new = invA @ (b - C @ lambda_)\n",
    "        lambda_ = lambda_ + stepsize * (C @ x_new - d)\n",
    "        iterations += 1\n",
    "        # Stopping criterion\n",
    "        if np.linalg.norm(x_new - x) < tol or iterations == max_iter:\n",
    "            return x_new, lambda_, iterations\n",
    "        x = x_new"
   ]
  },
  {
   "cell_type": "code",
   "execution_count": 73,
   "id": "b2f99514",
   "metadata": {},
   "outputs": [
    {
     "name": "stdout",
     "output_type": "stream",
     "text": [
      "Given A = [[2 0]\n",
      " [0 1]], C = [[1 3]\n",
      " [2 1]], d = [3 1], b = [2 1], τ = 0.1, tol = 1e-06, the solution is [4.80550264e-06 9.99996586e-01]\n"
     ]
    }
   ],
   "source": [
    "# Example values\n",
    "\n",
    "A = np.array([[2, 0], [0, 1]]) # Symmetric positive definite\n",
    "C = np.array([[1,3], [2,1]]) # Surjective\n",
    "d = np.array([3,1])\n",
    "b = np.array([2,1])\n",
    "tau = 0.1\n",
    "tol = 1e-6\n",
    "\n",
    "x, lambda_, _ = Uzawa(A, b, C, d, tau, tol)\n",
    "print(f'Given A = {A}, C = {C}, d = {d}, b = {b}, τ = {tau}, tol = {tol}, the solution is {x}')"
   ]
  },
  {
   "cell_type": "markdown",
   "id": "1f3b1145",
   "metadata": {},
   "source": [
    "### Convergence\n",
    "\n",
    "We are given that a sufficient condition for convergence is\n",
    "$$\n",
    "    0 < \\tau < \\frac{2m_A}{M_C}\n",
    "$$\n",
    "where $m_A$ is the smallest eigenvalue of $A$ and $M_C$ is the largest eigenvalue of $C^tC$."
   ]
  },
  {
   "cell_type": "markdown",
   "id": "c10d5f52",
   "metadata": {},
   "source": [
    "In order to demonstrate this condition, we vary $\\tau$ and plot the convergence of the algorithm."
   ]
  },
  {
   "cell_type": "code",
   "execution_count": 78,
   "id": "c9fbde4e",
   "metadata": {},
   "outputs": [
    {
     "name": "stdout",
     "output_type": "stream",
     "text": [
      "The smallest eigenvalue of A is 1.0 and the largest eigenvalue of C^tC is 19.48528137423857 so the bound is 0.102641576561691\n"
     ]
    }
   ],
   "source": [
    "def compute_condition(A, C):\n",
    "    m_A = min(np.linalg.eig(A)[0])\n",
    "    M_C = max(np.linalg.eig(C.T @ C)[0])\n",
    "    bound = 2 * m_A / M_C\n",
    "    return m_A, M_C, bound\n",
    "\n",
    "m_A, M_C, bound = compute_condition(A, C)\n",
    "\n",
    "print(f'The smallest eigenvalue of A is {m_A} and the largest eigenvalue of C^tC is {M_C} so the bound is {bound}')"
   ]
  },
  {
   "cell_type": "code",
   "execution_count": 79,
   "id": "3fb183b8",
   "metadata": {},
   "outputs": [
    {
     "name": "stderr",
     "output_type": "stream",
     "text": [
      "/Users/lucienwalewski/opt/anaconda3/lib/python3.7/site-packages/ipykernel_launcher.py:11: RuntimeWarning: overflow encountered in matmul\n",
      "  # This is added back by InteractiveShellApp.init_path()\n",
      "/Users/lucienwalewski/opt/anaconda3/lib/python3.7/site-packages/ipykernel_launcher.py:10: RuntimeWarning: invalid value encountered in matmul\n",
      "  # Remove the CWD from sys.path while we load stuff.\n"
     ]
    },
    {
     "data": {
      "image/png": "[encoded data removed]",
      "text/plain": [
       "<Figure size 432x288 with 1 Axes>"
      ]
     },
     "metadata": {
      "needs_background": "light"
     },
     "output_type": "display_data"
    }
   ],
   "source": [
    "def plot_condition(A, b, C, d, tau, tol, max_iter):\n",
    "    iterations = []\n",
    "    stepsizes = []\n",
    "\n",
    "    for tau in np.arange(0.01, bound + 0.5, 0.01):\n",
    "        x, lambda_, iters = Uzawa(A, b, C, d, tau, tol, max_iter=1000)\n",
    "        stepsizes.append(tau)\n",
    "        iterations.append(iters)\n",
    "\n",
    "    largest_stepsize = stepsizes[np.argmax(np.array(iterations) == 1000) - 1]\n",
    "    plt.scatter(stepsizes, iterations)\n",
    "    plt.xlabel('Stepsize')\n",
    "    plt.ylabel('Number of iterations')\n",
    "    plt.axvline(largest_stepsize, color='r', label='Largest stepsize')\n",
    "    plt.axvline(bound, color='b', label='Theoretical bound')\n",
    "    plt.legend()\n",
    "\n",
    "plot_condition(A, b, C, d, tau, tol, max_iter=1000)"
   ]
  },
  {
   "cell_type": "markdown",
   "id": "b00e38bd",
   "metadata": {},
   "source": [
    "It can be seen in the scatter graph above that the condition is indeed sufficient but not necessary. We try some more examples to illustrate the condition."
   ]
  },
  {
   "cell_type": "code",
   "execution_count": 80,
   "id": "37ee43d4",
   "metadata": {},
   "outputs": [
    {
     "name": "stderr",
     "output_type": "stream",
     "text": [
      "/Users/lucienwalewski/opt/anaconda3/lib/python3.7/site-packages/ipykernel_launcher.py:11: RuntimeWarning: overflow encountered in matmul\n",
      "  # This is added back by InteractiveShellApp.init_path()\n",
      "/Users/lucienwalewski/opt/anaconda3/lib/python3.7/site-packages/ipykernel_launcher.py:10: RuntimeWarning: invalid value encountered in matmul\n",
      "  # Remove the CWD from sys.path while we load stuff.\n",
      "/Users/lucienwalewski/opt/anaconda3/lib/python3.7/site-packages/ipykernel_launcher.py:14: RuntimeWarning: overflow encountered in subtract\n",
      "  \n",
      "/Users/lucienwalewski/opt/anaconda3/lib/python3.7/site-packages/ipykernel_launcher.py:10: RuntimeWarning: overflow encountered in matmul\n",
      "  # Remove the CWD from sys.path while we load stuff.\n"
     ]
    },
    {
     "data": {
      "image/png": "[encoded data removed]",
      "text/plain": [
       "<Figure size 432x288 with 1 Axes>"
      ]
     },
     "metadata": {
      "needs_background": "light"
     },
     "output_type": "display_data"
    }
   ],
   "source": [
    "A = np.array([[1, 0], [0, 1]]) # Identity\n",
    "C = np.array([[1,3], [2,1]]) # Surjective\n",
    "d = np.array([3,1])\n",
    "b = np.array([2,1])\n",
    "\n",
    "plot_condition(A, b, C, d, tau, tol, max_iter=1000)"
   ]
  },
  {
   "cell_type": "code",
   "execution_count": 81,
   "id": "f8adc2f9",
   "metadata": {},
   "outputs": [
    {
     "name": "stderr",
     "output_type": "stream",
     "text": [
      "/Users/lucienwalewski/opt/anaconda3/lib/python3.7/site-packages/ipykernel_launcher.py:11: RuntimeWarning: overflow encountered in matmul\n",
      "  # This is added back by InteractiveShellApp.init_path()\n",
      "/Users/lucienwalewski/opt/anaconda3/lib/python3.7/site-packages/ipykernel_launcher.py:10: RuntimeWarning: invalid value encountered in matmul\n",
      "  # Remove the CWD from sys.path while we load stuff.\n"
     ]
    },
    {
     "data": {
      "image/png": "[encoded data removed]",
      "text/plain": [
       "<Figure size 432x288 with 1 Axes>"
      ]
     },
     "metadata": {
      "needs_background": "light"
     },
     "output_type": "display_data"
    }
   ],
   "source": [
    "A = np.array([[5, 3], [0, 1]]) # Identity\n",
    "C = np.array([[1,4], [2,1]]) # Surjective\n",
    "d = np.array([3,2])\n",
    "b = np.array([2,4])\n",
    "\n",
    "plot_condition(A, b, C, d, tau, tol, max_iter=1000)"
   ]
  },
  {
   "cell_type": "markdown",
   "id": "75ee4723",
   "metadata": {},
   "source": [
    "TODO: Compare with algebraic formulation of 6.8.1"
   ]
  },
  {
   "cell_type": "markdown",
   "id": "5fdd7ab3",
   "metadata": {},
   "source": [
    "### Part 2"
   ]
  },
  {
   "cell_type": "markdown",
   "id": "d19d819e",
   "metadata": {},
   "source": [
    "We now implement the augmented Lagrangian method. The augmented Lagrangian of parameter $\\beta>0$ for $(x,y)\\in E\\times Y$ is given by\n",
    "\\begin{align*}\n",
    "    L_{\\beta}(x,\\lambda)&= \\frac{1}{2}\\langle Ax,x\\rangle - \\langle b,x\\rangle + \\langle \\lambda,Cx-d\\rangle + \\frac{\\beta}{2}\\lVert Cx-d\\rVert^2\n",
    "\\end{align*}\n",
    "\n",
    "We derive our new update rules for $x^k$ and $\\lambda^k$. We have\n",
    "\\begin{align*}\n",
    "    x^k\\in\\argmin_{x\\in X} L_{\\beta}(x, \\lambda^k)&\\iff \\nabla_x L_{\\beta}(x^k, \\lambda^k)=0 \\\\ \n",
    "    &\\iff Ax^k-b+C^t\\lambda^k +\\beta C\\lVert Cx^k-d\\rVert=0 \\\\\n",
    "    &\\iff x^k=(A+\\beta C^tC)^{-1}(b-C^t\\lambda^k-\\beta C^td)\n",
    "\\end{align*}\n",
    "as well as\n",
    "\\begin{align*}\n",
    "    \\lambda_{k+1}=\\lambda^k+\\beta (Cx^k-d)\n",
    "\\end{align*}"
   ]
  },
  {
   "cell_type": "markdown",
   "id": "c97cdc8a",
   "metadata": {},
   "source": [
    "We now implement the augmented Lagrangian method."
   ]
  },
  {
   "cell_type": "code",
   "execution_count": 82,
   "id": "d4d692c1",
   "metadata": {},
   "outputs": [],
   "source": [
    "def uzawa_augmented(A, b, C, d, beta, tol, max_iter=None):\n",
    "    # Initialization\n",
    "    lambda_ = np.zeros(d.shape)\n",
    "    inv = np.linalg.inv(A + beta * C.T @ C)\n",
    "    x = inv @ (b - C @ lambda_ - beta * C.T @ d)\n",
    "    lambda_ = lambda_ + beta * (C @ x -d)\n",
    "    iterations = 1\n",
    "    while True:\n",
    "        # Update\n",
    "        x_new = inv @ (b - C @ lambda_ - beta * C.T @ d)\n",
    "        lambda_ = lambda_ + beta * (C @ x_new - d)\n",
    "        iterations += 1\n",
    "        # Stopping criterion\n",
    "        if np.linalg.norm(x_new - x) < tol or iterations == max_iter:\n",
    "            return x_new, lambda_, iterations\n",
    "        x = x_new"
   ]
  },
  {
   "cell_type": "markdown",
   "id": "d54859a8",
   "metadata": {},
   "source": [
    "We compare the augmented Lagrangian method with the Uzawa algorithm for the examples previously seen. "
   ]
  },
  {
   "cell_type": "code",
   "execution_count": 94,
   "id": "e5cabe4f",
   "metadata": {},
   "outputs": [],
   "source": [
    "def compare_methods(A, b, C, d):\n",
    "    for beta in [0.1, 0.5, 1, 2]:\n",
    "        x, lambda_, iters = Uzawa(A, b, C, d, tau, tol=1e-6)\n",
    "        print(x)\n",
    "        x, lambda_, iters = uzawa_augmented(A, b, C, d, beta, tol=1e-6)\n",
    "        print(x)\n",
    "\n",
    "# compare_methods(A, b, C, d)"
   ]
  },
  {
   "cell_type": "code",
   "execution_count": 96,
   "id": "bec76318",
   "metadata": {},
   "outputs": [
    {
     "name": "stdout",
     "output_type": "stream",
     "text": [
      "[4.80550264e-06 9.99996586e-01]\n",
      "[5.27796386e-06 9.99996096e-01]\n",
      "[4.80550264e-06 9.99996586e-01]\n",
      "[9.96552176e-07 9.99999134e-01]\n",
      "[4.80550264e-06 9.99996586e-01]\n",
      "[5.76178233e-07 9.99999424e-01]\n",
      "[4.80550264e-06 9.99996586e-01]\n",
      "[2.58387772e-07 9.99999706e-01]\n",
      "[2.32489972e-06 9.99998102e-01]\n",
      "[3.48195224e-06 9.99996977e-01]\n",
      "[2.32489972e-06 9.99998102e-01]\n",
      "[6.85603619e-07 9.99999292e-01]\n",
      "[2.32489972e-06 9.99998102e-01]\n",
      "[3.19880284e-07 9.99999635e-01]\n",
      "[2.32489972e-06 9.99998102e-01]\n",
      "[3.35106602e-07 9.99999587e-01]\n",
      "[0.71428075 0.57143119]\n",
      "[0.71427984 0.57143199]\n",
      "[0.71428075 0.57143119]\n",
      "[0.71428645 0.57142786]\n",
      "[0.71428075 0.57143119]\n",
      "[0.71428629 0.57142791]\n",
      "[0.71428075 0.57143119]\n",
      "[0.71428645 0.57142768]\n"
     ]
    }
   ],
   "source": [
    "A = np.array([[2, 0], [0, 1]]) # Symmetric positive definite\n",
    "C = np.array([[1,3], [2,1]]) # Surjective\n",
    "d = np.array([3,1])\n",
    "b = np.array([2,1])\n",
    "tau = 0.1\n",
    "tol = 1e-6\n",
    "\n",
    "compare_methods(A, b, C, d)\n",
    "\n",
    "A = np.array([[1, 0], [0, 1]]) # Identity\n",
    "C = np.array([[1,3], [2,1]]) # Surjective\n",
    "d = np.array([3,1])\n",
    "b = np.array([2,1])\n",
    "\n",
    "compare_methods(A, b, C, d)\n",
    "\n",
    "A = np.array([[5, 3], [0, 1]]) # Identity\n",
    "C = np.array([[1,4], [2,1]]) # Surjective\n",
    "d = np.array([3,2])\n",
    "b = np.array([2,4])\n",
    "\n",
    "compare_methods(A, b, C, d)"
   ]
  },
  {
   "cell_type": "code",
   "execution_count": null,
   "id": "b6a4acda",
   "metadata": {},
   "outputs": [],
   "source": []
  }
 ],
 "metadata": {
  "kernelspec": {
   "display_name": "Python 3.7.7 64-bit ('anaconda3')",
   "language": "python",
   "name": "python3"
  },
  "language_info": {
   "codemirror_mode": {
    "name": "ipython",
    "version": 3
   },
   "file_extension": ".py",
   "mimetype": "text/x-python",
   "name": "python",
   "nbconvert_exporter": "python",
   "pygments_lexer": "ipython3",
   "version": "3.7.7"
  },
  "vscode": {
   "interpreter": {
    "hash": "8b4917b3d66571c4172300fbc2fc16d86263c0134eba8e5c6a85ada23642716f"
   }
  }
 },
 "nbformat": 4,
 "nbformat_minor": 5
}
