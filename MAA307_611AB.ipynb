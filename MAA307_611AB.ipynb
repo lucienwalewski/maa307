{
 "cells": [
  {
   "cell_type": "markdown",
   "id": "eaa50362",
   "metadata": {},
   "source": [
    "# MAA307 Homework Assignment 2\n",
    "\n",
    "#### Lucien Walewski and Aurele Bohbot"
   ]
  },
  {
   "cell_type": "code",
   "execution_count": 1,
   "id": "0b8fd59c",
   "metadata": {},
   "outputs": [],
   "source": [
    "# Imports\n",
    "\n",
    "import numpy as np\n",
    "import matplotlib.pyplot as plt"
   ]
  },
  {
   "cell_type": "markdown",
   "id": "55cd0554-c24d-4a47-8aea-3f72c28603cd",
   "metadata": {},
   "source": [
    "## Exercise 6.11 A"
   ]
  },
  {
   "cell_type": "markdown",
   "id": "e77cbaf5-83e2-43b2-9f80-274c9b437023",
   "metadata": {},
   "source": [
    "We place ourselves in the framework of Exercise 6.8. We consider the problem\n",
    "$$\n",
    "\\text{minimize}_{x\\in\\mathbb{R}^n} \\frac{1}{2}\\langle Ax,x\\rangle - \\langle b,x\\rangle \\quad\\text{subject to} \\quad Cx=d\n",
    "$$\n",
    "where $A\\in\\mathcal{M}_n(\\mathbb{R})$ is symmetric positive definite, $b\\in\\mathbb{R}^n$, $C\\in\\mathcal{M}_{m,n}(\\mathbb{R})$ is surjective, and $d\\in\\mathbb{R}^m$. We begin by considering the associated Lagrangian/dual problem given by:\n",
    "$$\n",
    "L(x, \\lambda) = \\frac{1}{2}\\langle Ax,x\\rangle - \\langle b,x\\rangle + \\langle \\lambda,Cx\\rangle - \\langle \\lambda,d\\rangle\n",
    "$$\n",
    "for $(x,\\lambda)\\in X\\times\\mathbb{R}^m$. "
   ]
  },
  {
   "cell_type": "markdown",
   "id": "fd3f7ef4",
   "metadata": {},
   "source": [
    "Then, Uzawa's algorithm consists of the following:\n",
    "\\begin{align*}\n",
    "    x^k\\in\\argmin_{x\\in X} L(x, \\lambda^k) \\\\\n",
    "    \\lambda^{k+1}=\\lambda^k+\\tau (Cx^k-d)\n",
    "\\end{align*}\n",
    "We can explicitely compute the update step for $x_k$. We have\n",
    "\\begin{align*}\n",
    "    x^k\\in\\argmin_{x\\in X} L(x, \\lambda^k)&\\iff \\nabla_x L(x^k, \\lambda^k)=0 \\\\\n",
    "    &\\iff 2Ax^k-b+C^t\\lambda^k =0 \\\\\n",
    "    &\\iff x^k=A^{-1}(b-C^t\\lambda^k)\n",
    "\\end{align*}"
   ]
  },
  {
   "cell_type": "markdown",
   "id": "fac28a4c",
   "metadata": {},
   "source": [
    "We now implement the Uzawa algorithm for this problem."
   ]
  },
  {
   "cell_type": "code",
   "execution_count": 26,
   "id": "70c0cabe",
   "metadata": {},
   "outputs": [],
   "source": [
    "def Uzawa(A, b, C, d, stepsize, tol):\n",
    "    # Initialization\n",
    "    lambda_ = np.zeros(d.shape)\n",
    "    invA = np.linalg.inv(A)\n",
    "    x = invA @ (b - C @ lambda_)\n",
    "    lambda_ = lambda_ + stepsize * (C @ x -d)\n",
    "    while True:\n",
    "        # Update\n",
    "        x_new = invA @ (b - C @ lambda_)\n",
    "        lambda_ = lambda_ + stepsize * (C @ x_new - d)\n",
    "        # Stopping criterion\n",
    "        if np.linalg.norm(x_new - x) < tol:\n",
    "            return x_new, lambda_\n",
    "        x = x_new"
   ]
  },
  {
   "cell_type": "code",
   "execution_count": 27,
   "id": "b2f99514",
   "metadata": {},
   "outputs": [],
   "source": [
    "# Example values\n",
    "\n",
    "A = np.array([[2, 1], [1, 1]]) # Symmetric positive definite\n",
    "C = np.array([[1,2], [3,1]]) # Surjective\n",
    "d = np.array([3,1])\n",
    "b = np.array([1,1])\n",
    "τ = 0.1\n",
    "tol = 1e-6\n",
    "\n",
    "x, lambda_ = Uzawa(A, b, C, d, τ, tol)"
   ]
  },
  {
   "cell_type": "code",
   "execution_count": null,
   "id": "1f3b1145",
   "metadata": {},
   "outputs": [],
   "source": []
  }
 ],
 "metadata": {
  "kernelspec": {
   "display_name": "Python 3.7.7 64-bit ('anaconda3')",
   "language": "python",
   "name": "python3"
  },
  "language_info": {
   "codemirror_mode": {
    "name": "ipython",
    "version": 3
   },
   "file_extension": ".py",
   "mimetype": "text/x-python",
   "name": "python",
   "nbconvert_exporter": "python",
   "pygments_lexer": "ipython3",
   "version": "3.7.7"
  },
  "vscode": {
   "interpreter": {
    "hash": "8b4917b3d66571c4172300fbc2fc16d86263c0134eba8e5c6a85ada23642716f"
   }
  }
 },
 "nbformat": 4,
 "nbformat_minor": 5
}
