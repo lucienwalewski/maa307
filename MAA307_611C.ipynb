{
 "cells": [
  {
   "cell_type": "markdown",
   "id": "f34454ae",
   "metadata": {},
   "source": [
    "## CSE307 Project (Ex 6.11 C)"
   ]
  },
  {
   "cell_type": "markdown",
   "id": "fe0f6754",
   "metadata": {},
   "source": [
    "The exercise 4.6 gives that for a family of convex functions $f_1, \\dots, f_n$ st $f_i: X \\to \\overline{\\mathbb{R}}$, if we define $f(x) = \\sup\\limits_{1 \\leq i \\leq n} f_i(x)$, then $\\bigcup\\limits_{i \\in \\text{argmax}_{1 \\leq i \\leq n}f_i(x)} \\partial f_i(x) \\subseteq \\partial f(x)$.\n",
    "\n",
    "If we write $f_i(x) = \\parallel x - x_i\\parallel^2$ and $f(x) = \\max\\limits_{1 \\leq i \\leq n} f_i(x)$, we can apply this proposition to the current problem.\n",
    "\n",
    "Indeed, this will allow us to compute the subgradient and get $r_k$.\n",
    "\n",
    "For the rest we will use $\\tau_k = \\frac{1}{k}$ and $10000$ iterations, for simplicity."
   ]
  },
  {
   "cell_type": "code",
   "execution_count": 168,
   "id": "5ee87224",
   "metadata": {},
   "outputs": [],
   "source": [
    "import numpy as np\n",
    "import matplotlib.pyplot as plt\n",
    "import random\n",
    "from mpl_toolkits import mplot3d"
   ]
  },
  {
   "cell_type": "code",
   "execution_count": 169,
   "id": "7cab32f8",
   "metadata": {},
   "outputs": [],
   "source": [
    "def subgrad(x, x_k):\n",
    "    i_max = np.argmax([np.linalg.norm(x_k-x_i)**2 for x_i in x])\n",
    "    return 2*(x_k-x[i_max])\n",
    "\n",
    "def non_smooth(x, x_0):\n",
    "    x_arr = [x_0]\n",
    "    for k in range(1, 10000):\n",
    "        r = subgrad(x, x_arr[-1])\n",
    "        x_arr.append(x_arr[-1] - r / (k * np.linalg.norm(r)))\n",
    "    return np.array(x_arr)"
   ]
  },
  {
   "cell_type": "code",
   "execution_count": 170,
   "id": "322adb5b",
   "metadata": {},
   "outputs": [],
   "source": [
    "x = np.random.rand(10, 2)\n",
    "x_0 = np.zeros(2)\n",
    "\n",
    "res=non_smooth(x, x_0)"
   ]
  },
  {
   "cell_type": "code",
   "execution_count": 171,
   "id": "ddbae423",
   "metadata": {},
   "outputs": [
    {
     "data": {
      "image/png": "[encoded data removed]",
      "text/plain": [
       "<Figure size 432x288 with 1 Axes>"
      ]
     },
     "metadata": {
      "needs_background": "light"
     },
     "output_type": "display_data"
    }
   ],
   "source": [
    "plt.scatter(x[:,0], x[:,1])\n",
    "plt.plot(res[:20,0], res[:20,1], 'ro--')\n",
    "plt.show()"
   ]
  },
  {
   "cell_type": "markdown",
   "id": "24661b2c",
   "metadata": {},
   "source": [
    "Here, we clearly see a convergence to a point in the convex hull (2.)."
   ]
  },
  {
   "cell_type": "code",
   "execution_count": 172,
   "id": "723cba2b",
   "metadata": {},
   "outputs": [
    {
     "data": {
      "text/plain": [
       "[0.09289283843687297,\n",
       " 0.15387254133259975,\n",
       " 0.26892457106073686,\n",
       " 0.30705638727355505,\n",
       " 0.3189365222057771,\n",
       " 0.3604248975835644,\n",
       " 0.38081232901612205,\n",
       " 0.3849890862296653,\n",
       " 0.4027934830941295,\n",
       " 0.40299348308612615]"
      ]
     },
     "execution_count": 172,
     "metadata": {},
     "output_type": "execute_result"
    }
   ],
   "source": [
    "def distances(x_k, x):\n",
    "    return sorted([np.linalg.norm(x_k-x_i) for x_i in x])\n",
    "\n",
    "distances(res[-1],x)"
   ]
  },
  {
   "cell_type": "markdown",
   "id": "e2237fa0",
   "metadata": {},
   "source": [
    "Here we see the list of distances between the convergence point and the neighbors (sorted for an easier understanding). We clearly see that some distances are very close."
   ]
  },
  {
   "cell_type": "markdown",
   "id": "8fb02bcb",
   "metadata": {},
   "source": [
    "To illustrate the fourth property, we will take some points in the border of a ball.\n",
    "\n",
    "Clearly we see a convergence to its center."
   ]
  },
  {
   "cell_type": "code",
   "execution_count": 180,
   "id": "cae42513",
   "metadata": {},
   "outputs": [
    {
     "data": {
      "image/png": "[encoded data removed]",
      "text/plain": [
       "<Figure size 432x288 with 1 Axes>"
      ]
     },
     "metadata": {
      "needs_background": "light"
     },
     "output_type": "display_data"
    }
   ],
   "source": [
    "x = np.array([[0,1], [1,0], [-1,0], [0,-1], [np.sqrt(2)/2, np.sqrt(2)/2], [-np.sqrt(2)/2, np.sqrt(2)/2], \n",
    "              [np.sqrt(2)/2, -np.sqrt(2)/2], [-np.sqrt(2)/2, -np.sqrt(2)/2]])\n",
    "x_0 = np.array([0.3, 1.3])\n",
    "\n",
    "res=non_smooth(x, x_0)\n",
    "\n",
    "plt.scatter(x[:,0], x[:,1])\n",
    "plt.plot(res[:30,0], res[:30,1], 'ro--')\n",
    "plt.show()"
   ]
  },
  {
   "cell_type": "markdown",
   "id": "981cbfb0",
   "metadata": {},
   "source": [
    "For the last we will take points in a ball first answering the $2R$ condition, than not."
   ]
  },
  {
   "cell_type": "code",
   "execution_count": 185,
   "id": "28f8adda",
   "metadata": {},
   "outputs": [
    {
     "data": {
      "image/png": "[encoded data removed]",
      "text/plain": [
       "<Figure size 432x288 with 1 Axes>"
      ]
     },
     "metadata": {
      "needs_background": "light"
     },
     "output_type": "display_data"
    }
   ],
   "source": [
    "#Condition fulfilled it converges to (0,0)\n",
    "x = np.array([[0.1,0.6], [0.15,-0.23], [-0.97,0.24], [-0.12,-0.55], [1,0], [-1,0]])\n",
    "x_0 = np.array([0.3, 1.3])\n",
    "\n",
    "res=non_smooth(x, x_0)\n",
    "\n",
    "plt.scatter([0], [0])\n",
    "plt.scatter(x[:,0], x[:,1])\n",
    "plt.plot(res[:20,0], res[:20,1], 'ro--')\n",
    "plt.show()"
   ]
  },
  {
   "cell_type": "code",
   "execution_count": 187,
   "id": "b1de0983",
   "metadata": {},
   "outputs": [
    {
     "data": {
      "image/png": "[encoded data removed]",
      "text/plain": [
       "<Figure size 432x288 with 1 Axes>"
      ]
     },
     "metadata": {
      "needs_background": "light"
     },
     "output_type": "display_data"
    }
   ],
   "source": [
    "#We take out one point so the condition is not reached \n",
    "x = np.array([[0.1,0.6], [0.15,-0.23], [-0.97,0.24], [-0.12,-0.55], [-1,0]])\n",
    "x_0 = np.array([0.3, 1.3])\n",
    "\n",
    "res=non_smooth(x, x_0)\n",
    "\n",
    "plt.scatter([0], [0])\n",
    "plt.scatter(x[:,0], x[:,1])\n",
    "plt.plot(res[:20,0], res[:20,1], 'ro--')\n",
    "plt.show()"
   ]
  },
  {
   "cell_type": "markdown",
   "id": "b59ce6bc",
   "metadata": {},
   "source": [
    " "
   ]
  },
  {
   "cell_type": "markdown",
   "id": "a15f5c50",
   "metadata": {},
   "source": [
    "Aurèle Bohbot & Lucien Walewski"
   ]
  },
  {
   "cell_type": "markdown",
   "id": "eaa50362",
   "metadata": {},
   "source": [
    " "
   ]
  }
 ],
 "metadata": {
  "kernelspec": {
   "display_name": "Python 3 (ipykernel)",
   "language": "python",
   "name": "python3"
  },
  "language_info": {
   "codemirror_mode": {
    "name": "ipython",
    "version": 3
   },
   "file_extension": ".py",
   "mimetype": "text/x-python",
   "name": "python",
   "nbconvert_exporter": "python",
   "pygments_lexer": "ipython3",
   "version": "3.9.10"
  }
 },
 "nbformat": 4,
 "nbformat_minor": 5
}
